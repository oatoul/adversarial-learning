{
 "cells": [
  {
   "cell_type": "markdown",
   "metadata": {
    "colab_type": "text",
    "id": "BYkyeU7mNYCs"
   },
   "source": [
    "# Welcome!\n",
    "\n",
    "Welcome, CS5260 learners! \n",
    "To minimize the effect of potential result shifts caused by the differences between hardware architectures, your project will be evaluated here on Google Colab.\n",
    "\n",
    "Please read the following before you start.\n",
    "\n",
    "- All the instructions below assume you are running this notebook on Google Colab. You can run and debug this notebook using Jupyter notebook with minor modification.\n",
    "- Check Google Colab's [tutorial](https://colab.research.google.com/notebooks/welcome.ipynb#)."
   ]
  },
  {
   "cell_type": "code",
   "execution_count": 1,
   "metadata": {
    "colab": {},
    "colab_type": "code",
    "id": "rkGwDfgpTSmM",
    "pycharm": {
     "is_executing": false
    }
   },
   "outputs": [],
   "source": [
    "# Replace A0123456X with your matriculation number.\n",
    "MATRIC_NUM = 'A0112900Y'"
   ]
  },
  {
   "cell_type": "markdown",
   "metadata": {
    "colab_type": "text",
    "id": "E9R5D2yL304P"
   },
   "source": [
    "# Introduction"
   ]
  },
  {
   "cell_type": "markdown",
   "metadata": {
    "colab_type": "text",
    "id": "MDu00DO_aKEE"
   },
   "source": [
    "## Filesystem"
   ]
  },
  {
   "cell_type": "markdown",
   "metadata": {
    "colab_type": "text",
    "id": "WMmpXyvhaO8w"
   },
   "source": [
    "Due to the special file system Google Colab uses, coding here will be a little bit different from coding on your local machine.\n",
    "\n",
    "Here's what will happen when the following block runs on our side.\n",
    "1. The TA's Google Drive will be mounted with the virtual machine that runs this Colab notebook, at `/content/drive/My Drive/`\n",
    "2. A special variable `ROOT` will be set to `/content/drive/My Drive/CS5260/`\n",
    "3. This `ROOT` variable, along with your matriculation number, will be used to locate resources related to your submission.\n",
    "\n",
    "The filesystem will look like this:\n",
    "\n",
    "```\n",
    "/content/drive/My Drive/CS5260/ (ROOT)\n",
    "  |____ models\n",
    "  |  |____ model.pt\n",
    "  |____ images\n",
    "  |  |____ artifacts\n",
    "  |  |  |____ 0000.png\n",
    "  |  |  |____ 0001.png\n",
    "  |  |  |____ ...\n",
    "  |  |____ cancer_regions\n",
    "  |  |  |____ XXXX.png\n",
    "  |  |  |____ XXXX.png\n",
    "  |  |  |____ ...\n",
    "  |  |____ ...\n",
    "  |____ results\n",
    "  |  |____ MATRIC_NUM.txt\n",
    "  |____ MATRIC_NUM\n",
    "     |____ MATRIC_NUM.ipynb\n",
    "     |____ other_supporting_files\n",
    "     |____ ...\n",
    "```\n",
    "\n",
    "Therefore, in your algorithm, please use `os.path.join(ROOT, \"model\")` to replace `../model/`, the same applies to `../images` and `../results/`.\n",
    "\n",
    "You can debug your code by creating the same folders on your Google Drive."
   ]
  },
  {
   "cell_type": "code",
   "execution_count": 2,
   "metadata": {
    "colab": {
     "base_uri": "https://localhost:8080/",
     "height": 127
    },
    "colab_type": "code",
    "executionInfo": {
     "elapsed": 23469,
     "status": "ok",
     "timestamp": 1583902497708,
     "user": {
      "displayName": "Ziwei XU",
      "photoUrl": "",
      "userId": "10267458323408938471"
     },
     "user_tz": -480
    },
    "id": "Vt64arlcb6EY",
    "outputId": "719203d1-ffc6-41f0-83b5-38add996b9fd",
    "pycharm": {
     "is_executing": false
    }
   },
   "outputs": [],
   "source": [
    "import sys\n",
    "import os.path as osp\n",
    "# from google.colab import drive\n",
    "# drive.mount('/content/drive')\n",
    "# ROOT = osp.join('/content', 'drive', 'My Drive', 'CS5260')\n",
    "# sys.path.append(osp.join(ROOT, MATRIC_NUM))"
   ]
  },
  {
   "cell_type": "markdown",
   "metadata": {
    "colab_type": "text",
    "id": "Y_c8j5AsnKRT"
   },
   "source": [
    "# Preparation"
   ]
  },
  {
   "cell_type": "markdown",
   "metadata": {
    "colab_type": "text",
    "id": "_GeatXrgnVFP"
   },
   "source": [
    "## Runtime Setup\n",
    "\n",
    "Before running any code block, click \"Runtime\" in the menu bar and select \"Change runtime type\". In the popup window, change \"hardware accelerator\" to \"GPU\". If the following code block works, your environment should be ok.\n",
    "\n",
    "Run the following cell to determine the device type of your machine."
   ]
  },
  {
   "cell_type": "code",
   "execution_count": 3,
   "metadata": {
    "cellView": "code",
    "colab": {},
    "colab_type": "code",
    "id": "N9eTijTgEYP7",
    "pycharm": {
     "is_executing": false
    }
   },
   "outputs": [
    {
     "name": "stdout",
     "output_type": "stream",
     "text": [
      "Change runtime type to GPU for better performance.\n"
     ]
    }
   ],
   "source": [
    "import torch\n",
    "if torch.cuda.is_available():\n",
    "  print(\"GPU is available.\")\n",
    "  device = torch.device('cuda')\n",
    "else:\n",
    "  print(\"Change runtime type to GPU for better performance.\")\n",
    "  device = torch.device('cpu')"
   ]
  },
  {
   "cell_type": "markdown",
   "metadata": {
    "colab_type": "text",
    "id": "c60-2JC-c_0S"
   },
   "source": [
    "## Libraries\n",
    "\n",
    "You can import libraries as in a Jupyter notebook. To install a library, use `!pip install package-name`.\n",
    "\n",
    "Please place all you imports in the following cell."
   ]
  },
  {
   "cell_type": "code",
   "execution_count": 4,
   "metadata": {
    "colab": {},
    "colab_type": "code",
    "id": "OQEmrtqcLrlW",
    "pycharm": {
     "is_executing": false
    }
   },
   "outputs": [
    {
     "ename": "ModuleNotFoundError",
     "evalue": "No module named 'tqdm'",
     "output_type": "error",
     "traceback": [
      "\u001b[1;31m---------------------------------------------------------------------------\u001b[0m",
      "\u001b[1;31mModuleNotFoundError\u001b[0m                       Traceback (most recent call last)",
      "\u001b[1;32m<ipython-input-4-c2ecd3390644>\u001b[0m in \u001b[0;36m<module>\u001b[1;34m\u001b[0m\n\u001b[0;32m      1\u001b[0m \u001b[1;31m# import libraries here, modify as you like.\u001b[0m\u001b[1;33m\u001b[0m\u001b[1;33m\u001b[0m\u001b[1;33m\u001b[0m\u001b[0m\n\u001b[0;32m      2\u001b[0m \u001b[1;32mimport\u001b[0m \u001b[0mnumpy\u001b[0m \u001b[1;32mas\u001b[0m \u001b[0mnp\u001b[0m\u001b[1;33m\u001b[0m\u001b[1;33m\u001b[0m\u001b[0m\n\u001b[1;32m----> 3\u001b[1;33m \u001b[1;32mfrom\u001b[0m \u001b[0mtqdm\u001b[0m\u001b[1;33m.\u001b[0m\u001b[0mautonotebook\u001b[0m \u001b[1;32mimport\u001b[0m \u001b[0mtqdm\u001b[0m\u001b[1;33m\u001b[0m\u001b[1;33m\u001b[0m\u001b[0m\n\u001b[0m\u001b[0;32m      4\u001b[0m \u001b[1;32mfrom\u001b[0m \u001b[0mtorch\u001b[0m \u001b[1;32mimport\u001b[0m \u001b[0mnn\u001b[0m\u001b[1;33m\u001b[0m\u001b[1;33m\u001b[0m\u001b[0m\n\u001b[0;32m      5\u001b[0m \u001b[1;32mfrom\u001b[0m \u001b[0mtorch\u001b[0m\u001b[1;33m.\u001b[0m\u001b[0mnn\u001b[0m \u001b[1;32mimport\u001b[0m \u001b[0mfunctional\u001b[0m \u001b[1;32mas\u001b[0m \u001b[0mF\u001b[0m\u001b[1;33m\u001b[0m\u001b[1;33m\u001b[0m\u001b[0m\n",
      "\u001b[1;31mModuleNotFoundError\u001b[0m: No module named 'tqdm'"
     ]
    }
   ],
   "source": [
    "# import libraries here, modify as you like.\n",
    "import numpy as np\n",
    "from tqdm.autonotebook import tqdm\n",
    "from torch import nn\n",
    "from torch.nn import functional as F\n",
    "from torch.utils.data import DataLoader\n",
    "from torchvision import transforms, datasets\n",
    "\n",
    "# !pip install a-certain-package"
   ]
  },
  {
   "cell_type": "markdown",
   "metadata": {
    "colab_type": "text",
    "id": "NNNHVSaFYn42"
   },
   "source": [
    "# Submission"
   ]
  },
  {
   "cell_type": "markdown",
   "metadata": {
    "colab_type": "text",
    "id": "ciyW6Rrh4Bwd"
   },
   "source": [
    "## How do I submit?\n",
    "1. Place this notebook, along with all you supporting documents, in a folder named with your matriculation number.\n",
    "2. Zip this folder, renamed the zip archive with your matriculation number.\n",
    "3. Submit the zip archive using [this Google Form](https://forms.gle/A77s1N5tzu4XAr2QA) (Google account required)."
   ]
  },
  {
   "cell_type": "markdown",
   "metadata": {
    "colab_type": "text",
    "id": "XGwIw4-VWvig"
   },
   "source": [
    "## How do I Add Supporting Libraries if it's not in Pip?\n",
    "Please keep this in mind: `os.path.join(ROOT, MATRIC_NUM)` will point to the directory of your submission. This directory has also been added to `sys.path` in the code cell above. If your supporting libraries lie in deeper directories, e.g. `os.path.join(ROOT, MATRIC_NUM, 'libs')`, you may append `sys.path` with those directories.\n",
    "\n",
    "After adding all relevant directories to `sys.path`, you should be able to directly import them by the name of the modules."
   ]
  },
  {
   "cell_type": "markdown",
   "metadata": {
    "colab_type": "text",
    "id": "li0m_D3vm2J8"
   },
   "source": [
    "# Now it's Your Turn\n",
    "Please complete this notebook.\n",
    "When evaluating your submission, we will directly open this notebook and click \"Runtime -> Run all\" in the menubar. Your result should then appear in `os.path.join(ROOT, 'results')` as `A0123456X.txt`. The format is quoted here:\n",
    "\n",
    "> This text file contains one entry per test image separated by a ‘newline’ character.\n",
    "> Each entry must contain image id and your top-1 prediction separated by ‘#’, e.g. 1000#0.\n",
    "\n",
    "**We will not handle crashes.**"
   ]
  },
  {
   "cell_type": "code",
   "execution_count": 5,
   "metadata": {
    "colab": {},
    "colab_type": "code",
    "id": "iTFlBZRcUpGL",
    "pycharm": {
     "is_executing": false
    }
   },
   "outputs": [],
   "source": [
    "# Write your code in code cells. Add more as you like."
   ]
  },
  {
   "cell_type": "markdown",
   "metadata": {
    "colab_type": "text",
    "id": "vZpmAtQCPX_t"
   },
   "source": [
    "# Credits\n",
    "\n",
    "This Colab notebook is created for CS5260 final project. Feel free to clone, but please do not distribute. \n",
    "\n",
    "Last Edited: Mar-11-2020 13:00"
   ]
  }
 ],
 "metadata": {
  "accelerator": "GPU",
  "colab": {
   "collapsed_sections": [],
   "name": "project_instructions.ipynb",
   "provenance": [],
   "toc_visible": true
  },
  "kernelspec": {
   "display_name": "Python 3",
   "language": "python",
   "name": "python3"
  },
  "language_info": {
   "codemirror_mode": {
    "name": "ipython",
    "version": 3
   },
   "file_extension": ".py",
   "mimetype": "text/x-python",
   "name": "python",
   "nbconvert_exporter": "python",
   "pygments_lexer": "ipython3",
   "version": "3.7.3"
  }
 },
 "nbformat": 4,
 "nbformat_minor": 1
}
